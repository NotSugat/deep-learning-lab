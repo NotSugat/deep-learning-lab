{
  "cells": [
    {
      "cell_type": "markdown",
      "metadata": {
        "id": "rj3Y4p6EuvBk"
      },
      "source": [
        "# Performing Gradient Descent in Regression"
      ]
    },
    {
      "cell_type": "markdown",
      "metadata": {
        "id": "tIPT7SwouvBn"
      },
      "source": [
        "using gradient descent in linear regression and find the optimal parameter.\n",
        "\n",
        "\n",
        "The equation of a simple linear regression can be expressed as:\n",
        "\n",
        "$$ \\hat{y} = mx + b  -- (1)$$\n",
        "\n",
        "Thus, we have two parameters $m$ and $b$. We will see how can we use gradient descent and find the optimal values for these two parameters $m$ and $b$.\n"
      ]
    },
    {
      "cell_type": "markdown",
      "metadata": {
        "id": "TzQLOjisuvBo"
      },
      "source": [
        "# Import the Libraries\n",
        "\n",
        "Import the required libraries:"
      ]
    },
    {
      "cell_type": "code",
      "execution_count": 1,
      "metadata": {
        "collapsed": true,
        "id": "yN7P-7DBuvBo"
      },
      "outputs": [],
      "source": [
        "import warnings\n",
        "warnings.filterwarnings('ignore')\n",
        "\n",
        "\n",
        "import random\n",
        "import math\n",
        "import numpy as np\n",
        "from matplotlib import pyplot as plt\n",
        "%matplotlib inline"
      ]
    },
    {
      "cell_type": "markdown",
      "metadata": {
        "id": "f4BfSgFSuvBp"
      },
      "source": [
        "# Prepare the dataset\n",
        "\n",
        "We generate some random data points<br>\n",
        "with 500 rows and 2 columns (x and y) <br>\n",
        "and use for training:"
      ]
    },
    {
      "cell_type": "code",
      "execution_count": 16,
      "metadata": {
        "collapsed": true,
        "id": "k51ju5FluvBq"
      },
      "outputs": [],
      "source": [
        "# random dataset\n",
        "data = np.random.randn(500, 2)"
      ]
    },
    {
      "cell_type": "code",
      "execution_count": 3,
      "metadata": {
        "scrolled": true,
        "colab": {
          "base_uri": "https://localhost:8080/"
        },
        "id": "grIx_3BsuvBr",
        "outputId": "4702f0ba-bad1-478d-8ca5-c0cf4431e818"
      },
      "outputs": [
        {
          "output_type": "execute_result",
          "data": {
            "text/plain": [
              "array([1.09700917, 0.19882684])"
            ]
          },
          "metadata": {},
          "execution_count": 3
        }
      ],
      "source": [
        "data[0]"
      ]
    },
    {
      "cell_type": "markdown",
      "metadata": {
        "id": "TaTuqlVQuvBs"
      },
      "source": [
        "First column indicates the $x$ value:"
      ]
    },
    {
      "cell_type": "code",
      "execution_count": 4,
      "metadata": {
        "colab": {
          "base_uri": "https://localhost:8080/"
        },
        "id": "fEW693sBuvBu",
        "outputId": "bc7be5df-9c8c-4d0f-9c09-510f5b0c1ac8"
      },
      "outputs": [
        {
          "output_type": "execute_result",
          "data": {
            "text/plain": [
              "np.float64(1.097009165537061)"
            ]
          },
          "metadata": {},
          "execution_count": 4
        }
      ],
      "source": [
        "data[0,0]"
      ]
    },
    {
      "cell_type": "markdown",
      "metadata": {
        "id": "sCGHak9buvBv"
      },
      "source": [
        "Second column indicates the $y$ value:"
      ]
    },
    {
      "cell_type": "code",
      "execution_count": 5,
      "metadata": {
        "colab": {
          "base_uri": "https://localhost:8080/"
        },
        "id": "E1EbCE6tuvBv",
        "outputId": "627e7be2-4b09-42e8-98bb-f0c2d7d98763"
      },
      "outputs": [
        {
          "output_type": "execute_result",
          "data": {
            "text/plain": [
              "np.float64(0.19882684243462315)"
            ]
          },
          "metadata": {},
          "execution_count": 5
        }
      ],
      "source": [
        "data[0,1]"
      ]
    },
    {
      "cell_type": "markdown",
      "metadata": {
        "id": "LIv5AjzSuvBw"
      },
      "source": [
        "The equation of a simple linear regression is expressed as:\n",
        "\n",
        "$$ \\hat{y} = mx + b  $$\n",
        "\n",
        "Thus, we have two parameters $m$ and $b$.  We store both of these parameter $m$ and $b$ in an array called theta. First, we initialize theta with zeros as shown below:"
      ]
    },
    {
      "cell_type": "code",
      "execution_count": 6,
      "metadata": {
        "collapsed": true,
        "id": "2FUpvUKHuvBw"
      },
      "outputs": [],
      "source": [
        "theta = np.zeros(2)"
      ]
    },
    {
      "cell_type": "code",
      "execution_count": 7,
      "metadata": {
        "colab": {
          "base_uri": "https://localhost:8080/"
        },
        "id": "gjwETmzbuvBx",
        "outputId": "277a62eb-4b5e-4b2e-ac1d-0249014feb6a"
      },
      "outputs": [
        {
          "output_type": "execute_result",
          "data": {
            "text/plain": [
              "array([0., 0.])"
            ]
          },
          "metadata": {},
          "execution_count": 7
        }
      ],
      "source": [
        "theta"
      ]
    },
    {
      "cell_type": "markdown",
      "metadata": {
        "id": "eOewbCUluvBx"
      },
      "source": [
        "theta[0] represents the value of $m$ and theta[1] represents the value of $b$"
      ]
    },
    {
      "cell_type": "markdown",
      "metadata": {
        "id": "chevNLKtuvBx"
      },
      "source": [
        "# Loss Function\n"
      ]
    },
    {
      "cell_type": "code",
      "execution_count": 8,
      "metadata": {
        "collapsed": true,
        "id": "abB1AcP2uvBy"
      },
      "outputs": [],
      "source": [
        "def loss_function(data,theta):\n",
        "\n",
        "    #get m and b\n",
        "    m = theta[0]\n",
        "    b = theta[1]\n",
        "\n",
        "    loss = 0\n",
        "\n",
        "    #for each iteration\n",
        "    for i in range(0, len(data)):\n",
        "\n",
        "        #get x and y\n",
        "        x = data[i, 0]\n",
        "        y = data[i, 1]\n",
        "\n",
        "        #predict the value of y\n",
        "        y_hat = (m*x + b)\n",
        "\n",
        "        #compute loss as given in quation (2)\n",
        "        loss = loss + ((y - (y_hat)) ** 2)\n",
        "\n",
        "    #mean sqaured error\n",
        "    mse = loss / float(len(data))\n",
        "\n",
        "    return mse"
      ]
    },
    {
      "cell_type": "code",
      "execution_count": 9,
      "metadata": {
        "scrolled": true,
        "colab": {
          "base_uri": "https://localhost:8080/"
        },
        "id": "FwA5a6FxuvBy",
        "outputId": "846c04b0-6a41-47d9-8346-e8d4dae86b36"
      },
      "outputs": [
        {
          "output_type": "execute_result",
          "data": {
            "text/plain": [
              "np.float64(0.9739780612211567)"
            ]
          },
          "metadata": {},
          "execution_count": 9
        }
      ],
      "source": [
        "loss_function(data, theta)"
      ]
    },
    {
      "cell_type": "markdown",
      "metadata": {
        "id": "4TvKCRBbuvBz"
      },
      "source": [
        "# Gradients of Loss Function\n",
        "\n",
        "We define a function called compute_gradients which takes the data and parameter theta as an input and returns the computed gradients:"
      ]
    },
    {
      "cell_type": "code",
      "execution_count": 10,
      "metadata": {
        "collapsed": true,
        "id": "HbxobNJGuvB0"
      },
      "outputs": [],
      "source": [
        "def compute_gradients(data, theta):\n",
        "\n",
        "    gradients = np.zeros(2)\n",
        "\n",
        "    #total number of data points\n",
        "    N = float(len(data))\n",
        "\n",
        "    m = theta[0]\n",
        "    b = theta[1]\n",
        "\n",
        "    #for each data point\n",
        "    for i in range(len(data)):\n",
        "        x = data[i, 0]\n",
        "        y = data[i, 1]\n",
        "\n",
        "        #gradient of loss function with respect to m as given in (3)\n",
        "        gradients[0] += - (2 / N) * x * (y - (( m* x) + b))\n",
        "\n",
        "        #gradient of loss funcction with respect to b as given in (4)\n",
        "        gradients[1] += - (2 / N) * (y - ((theta[0] * x) + b))\n",
        "\n",
        "    #add epsilon to avoid division by zero error\n",
        "    epsilon = 1e-6\n",
        "    gradients = np.divide(gradients, N + epsilon)\n",
        "\n",
        "    return gradients"
      ]
    },
    {
      "cell_type": "code",
      "execution_count": 11,
      "metadata": {
        "colab": {
          "base_uri": "https://localhost:8080/"
        },
        "id": "rxW8Yc2suvB0",
        "outputId": "700551f8-2ed1-453b-e0f4-c15852baebda"
      },
      "outputs": [
        {
          "output_type": "execute_result",
          "data": {
            "text/plain": [
              "array([0.00021881, 0.00011612])"
            ]
          },
          "metadata": {},
          "execution_count": 11
        }
      ],
      "source": [
        "compute_gradients(data,theta)"
      ]
    },
    {
      "cell_type": "markdown",
      "metadata": {
        "id": "g3gyVxyTuvB1"
      },
      "source": [
        "Set the number of iterations:"
      ]
    },
    {
      "cell_type": "code",
      "execution_count": 12,
      "metadata": {
        "collapsed": true,
        "id": "Yxx8RCJJuvB1"
      },
      "outputs": [],
      "source": [
        "num_iterations = 50000"
      ]
    },
    {
      "cell_type": "markdown",
      "metadata": {
        "id": "CxzPN7yfuvB1"
      },
      "source": [
        "Define the learning rate:"
      ]
    },
    {
      "cell_type": "code",
      "execution_count": 13,
      "metadata": {
        "collapsed": true,
        "id": "eGnybPjJuvB1"
      },
      "outputs": [],
      "source": [
        "lr = 1e-2"
      ]
    },
    {
      "cell_type": "markdown",
      "metadata": {
        "id": "TBTNQ8LGuvB2"
      },
      "source": [
        "Define a list called loss for storing the loss on every iterations:"
      ]
    },
    {
      "cell_type": "code",
      "execution_count": 14,
      "metadata": {
        "collapsed": true,
        "id": "u_YQCzjVuvB2"
      },
      "outputs": [],
      "source": [
        "loss = []"
      ]
    },
    {
      "cell_type": "markdown",
      "metadata": {
        "id": "d9p0RJo_uvB2"
      },
      "source": [
        "On each iteration, calculate gradients and update the gradients according to our paramater update rule (7):"
      ]
    },
    {
      "cell_type": "code",
      "execution_count": 15,
      "metadata": {
        "collapsed": true,
        "id": "poAWJt_xuvB2"
      },
      "outputs": [],
      "source": [
        "theta = np.zeros(2)\n",
        "\n",
        "for t in range(num_iterations):\n",
        "\n",
        "    #compute gradients\n",
        "    gradients = compute_gradients(data, theta)\n",
        "\n",
        "    #update parameter\n",
        "    theta = theta - (lr*gradients)\n",
        "\n",
        "    #store the loss\n",
        "    loss.append(loss_function(data,theta))"
      ]
    },
    {
      "cell_type": "markdown",
      "metadata": {
        "id": "q2fUD4KmuvB2"
      },
      "source": [
        "The below plot shows how the loss(cost) decreases over the training iterations:"
      ]
    },
    {
      "cell_type": "code",
      "execution_count": 17,
      "metadata": {
        "scrolled": true,
        "colab": {
          "base_uri": "https://localhost:8080/",
          "height": 490
        },
        "id": "ld7vOn0kuvB3",
        "outputId": "2205da19-543b-426b-a588-fc81f28562ef"
      },
      "outputs": [
        {
          "output_type": "execute_result",
          "data": {
            "text/plain": [
              "Text(0.5, 1.0, 'Gradient Descent')"
            ]
          },
          "metadata": {},
          "execution_count": 17
        },
        {
          "output_type": "display_data",
          "data": {
            "text/plain": [
              "<Figure size 640x480 with 1 Axes>"
            ],
            "image/png": "[encoded data removed]"
          },
          "metadata": {}
        }
      ],
      "source": [
        "plt.plot(loss)\n",
        "plt.grid()\n",
        "plt.xlabel('Training Iterations')\n",
        "plt.ylabel('Cost')\n",
        "plt.title('Gradient Descent')"
      ]
    }
  ],
  "metadata": {
    "kernelspec": {
      "display_name": "Python [default]",
      "language": "python",
      "name": "python2"
    },
    "language_info": {
      "codemirror_mode": {
        "name": "ipython",
        "version": 2
      },
      "file_extension": ".py",
      "mimetype": "text/x-python",
      "name": "python",
      "nbconvert_exporter": "python",
      "pygments_lexer": "ipython2",
      "version": "2.7.11"
    },
    "colab": {
      "provenance": []
    }
  },
  "nbformat": 4,
  "nbformat_minor": 0
}