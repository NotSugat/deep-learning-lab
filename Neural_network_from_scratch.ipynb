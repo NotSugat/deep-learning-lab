{
  "nbformat": 4,
  "nbformat_minor": 0,
  "metadata": {
    "colab": {
      "provenance": []
    },
    "kernelspec": {
      "name": "python3",
      "display_name": "Python 3"
    },
    "language_info": {
      "name": "python"
    }
  },
  "cells": [
    {
      "cell_type": "markdown",
      "source": [
        "**Building a Neural Network from scratch**\n",
        "\n",
        "To perform the **XOR** gate operation, we build a simple two-layer neural network.\n",
        "\n",
        "*We have an input layer with two nodes: a hidden layer with five nodes and an output layer comprising one node*"
      ],
      "metadata": {
        "id": "wgel2kw2Ztml"
      }
    },
    {
      "cell_type": "code",
      "execution_count": 2,
      "metadata": {
        "id": "RzZ9jVcAZDXb"
      },
      "outputs": [],
      "source": [
        "import numpy as np\n",
        "import matplotlib.pyplot as plt\n",
        "%matplotlib inline"
      ]
    },
    {
      "cell_type": "code",
      "source": [
        "# preparing the data\n",
        "x = np.array([[0,1], [1,0], [1,1], [0,0]])\n",
        "y = np.array([ [1], [1], [0], [0]])"
      ],
      "metadata": {
        "id": "4WFRgZKMZlFB"
      },
      "execution_count": 5,
      "outputs": []
    },
    {
      "cell_type": "code",
      "source": [
        "# Define the number of nodes in each layer\n",
        "num_input = 2\n",
        "num_hidden = 5\n",
        "num_output = 1"
      ],
      "metadata": {
        "id": "u24Lc4gvbkyW"
      },
      "execution_count": 6,
      "outputs": []
    },
    {
      "cell_type": "code",
      "source": [
        "# Initializing weights and bias randomly\n",
        "Wxh = np.random.randn(num_input, num_hidden)\n",
        "bh = np.zeros((1,num_hidden))\n",
        "\n",
        "# Intializing the hidden to output layer weights\n",
        "Why = np.random.randn(num_hidden, num_output)\n",
        "by = np.zeros((1, num_output))"
      ],
      "metadata": {
        "id": "fr-uh-GjcDYN"
      },
      "execution_count": 7,
      "outputs": []
    },
    {
      "cell_type": "code",
      "source": [
        "# Activation function - Sigmoid activation function\n",
        "def sigmoid(z):\n",
        "  return 1 / (1 + np.exp(-z))\n",
        "\n",
        "\n",
        "# derivative of Sigmoid function\n",
        "def sigmoid_derivative(z):\n",
        "  return np.exp(-z)/((1 + np.exp(-z))**2)"
      ],
      "metadata": {
        "id": "a5ZJWapMcURY"
      },
      "execution_count": 8,
      "outputs": []
    },
    {
      "cell_type": "code",
      "source": [
        "# Define the forward propagation\n",
        "def forward_prop(X, Wxh, Why):\n",
        "  z1 = np.dot(X,Wxh) + bh\n",
        "  a1 = sigmoid(z1)\n",
        "  z2 = np.dot(a1, Why) + by\n",
        "  y_hat = sigmoid(z2)\n",
        "\n",
        "  return z1,a1,z2,y_hat\n",
        "\n",
        "# Define the backward propagation\n",
        "def backward_prop(y_hat, z1, a1, z2):\n",
        "  delta2 = np.multiply(-(y-y_hat), sigmoid_derivative(z2))\n",
        "  dJ_dWhy = np.dot(a1.T, delta2)\n",
        "\n",
        "  delta1 = np.dot(delta2, Why.T)*sigmoid_derivative(z1)\n",
        "  dJ_dWxh = np.dot(x.T, delta1)\n",
        "\n",
        "  return dJ_dWxh, dJ_dWhy"
      ],
      "metadata": {
        "id": "VMVbUZZpcwGR"
      },
      "execution_count": 9,
      "outputs": []
    },
    {
      "cell_type": "code",
      "source": [
        "# Define the cost function\n",
        "def cost_function(y, y_hat):\n",
        "  J = 0.5*sum((y-y_hat)**2)\n",
        "\n",
        "  return J"
      ],
      "metadata": {
        "id": "DK8pF5NbejSd"
      },
      "execution_count": 10,
      "outputs": []
    },
    {
      "cell_type": "code",
      "source": [
        "# set learning rate and number of training iterations\n",
        "alpha = 0.01\n",
        "num_iterations = 5000"
      ],
      "metadata": {
        "id": "5_pkfAb0et5d"
      },
      "execution_count": 11,
      "outputs": []
    },
    {
      "cell_type": "code",
      "source": [
        "# training the network\n",
        "cost = []\n",
        "\n",
        "for i in range(num_iterations):\n",
        "  z1, a1, z2, y_hat = forward_prop(x, Wxh, Why)\n",
        "  dJ_dWxh, dJ_dWhy = backward_prop(y_hat, z1, a1,z2)\n",
        "\n",
        "  # update weights\n",
        "  Wxh = Wxh - alpha * dJ_dWxh\n",
        "  Why = Why - alpha * dJ_dWhy\n",
        "\n",
        "  # compute cost\n",
        "  c = cost_function(y, y_hat)\n",
        "\n",
        "  cost.append(c)"
      ],
      "metadata": {
        "id": "A-JmtUTbe0N2"
      },
      "execution_count": 12,
      "outputs": []
    },
    {
      "cell_type": "code",
      "source": [
        "# plot the cost function\n",
        "plt.grid()\n",
        "plt.plot(range(num_iterations), cost)\n",
        "\n",
        "plt.title('Cost function')\n",
        "plt.xlabel('Training iterations')\n",
        "plt.ylabel('Cost')"
      ],
      "metadata": {
        "colab": {
          "base_uri": "https://localhost:8080/",
          "height": 490
        },
        "id": "Xi128GTnf1hP",
        "outputId": "ccc65108-9708-4535-e8ef-880099a9f7ba"
      },
      "execution_count": 13,
      "outputs": [
        {
          "output_type": "execute_result",
          "data": {
            "text/plain": [
              "Text(0, 0.5, 'Cost')"
            ]
          },
          "metadata": {},
          "execution_count": 13
        },
        {
          "output_type": "display_data",
          "data": {
            "text/plain": [
              "<Figure size 640x480 with 1 Axes>"
            ],
            "image/png": "[encoded data removed]"
          },
          "metadata": {}
        }
      ]
    }
  ]
}